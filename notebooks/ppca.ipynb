{
 "cells": [
  {
   "cell_type": "code",
   "execution_count": 1,
   "metadata": {
    "collapsed": true
   },
   "outputs": [],
   "source": [
    "import numpy as np\n",
    "from scipy import special\n",
    "from numpy.random import randn\n",
    "from numpy.matlib import repmat"
   ]
  },
  {
   "cell_type": "code",
   "execution_count": 2,
   "metadata": {
    "collapsed": true
   },
   "outputs": [],
   "source": [
    "import matplotlib.pyplot as plt\n",
    "%matplotlib inline"
   ]
  },
  {
   "cell_type": "code",
   "execution_count": 3,
   "metadata": {
    "collapsed": true
   },
   "outputs": [],
   "source": [
    "np.random.seed(123)"
   ]
  },
  {
   "cell_type": "markdown",
   "metadata": {
    "collapsed": true
   },
   "source": [
    "## 1. Simulating data"
   ]
  },
  {
   "cell_type": "code",
   "execution_count": 4,
   "metadata": {
    "collapsed": true
   },
   "outputs": [],
   "source": [
    "import sys\n",
    "sys.path.append('../')"
   ]
  },
  {
   "cell_type": "code",
   "execution_count": 5,
   "metadata": {
    "collapsed": true
   },
   "outputs": [],
   "source": [
    "from ppca import PPCA"
   ]
  },
  {
   "cell_type": "code",
   "execution_count": 6,
   "metadata": {},
   "outputs": [
    {
     "name": "stdout",
     "output_type": "stream",
     "text": [
      "Lower bound: -1284.67008555\n",
      "0\n",
      "Lower bound: -1127.87128563\n",
      "1\n",
      "Lower bound: -1061.54760378\n",
      "2\n",
      "Lower bound: -1040.57019388\n",
      "3\n",
      "Lower bound: -1035.29732358\n",
      "4\n",
      "Lower bound: -1033.53497985\n",
      "5\n",
      "Lower bound: -1032.56638969\n",
      "6\n",
      "Lower bound: -1031.8938498\n",
      "7\n",
      "Lower bound: -1031.3939061\n",
      "8\n",
      "Lower bound: -1031.0134289\n",
      "9\n",
      "Lower bound: -1030.72057388\n",
      "10\n",
      "Lower bound: -1030.49367151\n",
      "11\n",
      "Lower bound: -1030.3171495\n",
      "12\n",
      "Lower bound: -1030.17947287\n",
      "13\n",
      "Lower bound: -1030.07192965\n",
      "14\n",
      "Lower bound: -1029.9878536\n",
      "15\n",
      "Lower bound: -1029.92209842\n",
      "16\n",
      "Lower bound: -1029.87066758\n",
      "17\n",
      "Lower bound: -1029.83044532\n",
      "18\n",
      "Lower bound: -1029.79899657\n",
      "19\n",
      "Lower bound: -1029.77441546\n",
      "20\n",
      "Lower bound: -1029.75520923\n",
      "21\n",
      "Lower bound: -1029.74020829\n",
      "22\n",
      "Lower bound: -1029.72849633\n",
      "23\n",
      "Lower bound: -1029.71935563\n",
      "24\n",
      "Lower bound: -1029.71222422\n",
      "25\n",
      "Lower bound: -1029.70666228\n",
      "26\n",
      "Lower bound: -1029.70232575\n",
      "27\n",
      "Lower bound: -1029.69894562\n",
      "28\n",
      "Lower bound: -1029.69631167\n",
      "29\n",
      "Lower bound: -1029.69425966\n",
      "30\n",
      "Lower bound: -1029.69266137\n",
      "31\n",
      "Lower bound: -1029.69141673\n",
      "32\n",
      "Lower bound: -1029.69044767\n",
      "33\n"
     ]
    }
   ],
   "source": [
    "Y = np.vstack((randn(20, 2), randn(20, 2) + 5, randn(20, 2) + np.array([5, 0]), randn(20, 2) + np.array([0, 5])))\n",
    "N = Y.shape[0]\n",
    "Y = np.hstack((Y, randn(N, 5)))\n",
    "\n",
    "t = np.vstack([repmat(i, 20, 1) for i in range(1,5)])\n",
    "\n",
    "ppca = PPCA(D = 2, n_iters = 100, verbose = True)\n",
    "ppca.fit(Y)"
   ]
  },
  {
   "cell_type": "code",
   "execution_count": 7,
   "metadata": {},
   "outputs": [
    {
     "data": {
      "text/plain": [
       "[<matplotlib.lines.Line2D at 0x7f7a28a12f10>]"
      ]
     },
     "execution_count": 7,
     "metadata": {},
     "output_type": "execute_result"
    },
    {
     "data": {
      "image/png": "[encoded data removed]",
      "text/plain": [
       "<matplotlib.figure.Figure at 0x7f7a4af03950>"
      ]
     },
     "metadata": {},
     "output_type": "display_data"
    }
   ],
   "source": [
    "length = len([i for i in ppca.lbs if i != 0])\n",
    "plt.plot(range(length), ppca.lbs[:length])"
   ]
  },
  {
   "cell_type": "code",
   "execution_count": 8,
   "metadata": {},
   "outputs": [
    {
     "data": {
      "text/plain": [
       "<matplotlib.collections.PathCollection at 0x7f7a28913510>"
      ]
     },
     "execution_count": 8,
     "metadata": {},
     "output_type": "execute_result"
    },
    {
     "data": {
      "image/png": "[encoded data removed]",
      "text/plain": [
       "<matplotlib.figure.Figure at 0x7f7a2ad7bf10>"
      ]
     },
     "metadata": {},
     "output_type": "display_data"
    }
   ],
   "source": [
    "plt.scatter(ppca.e_X[:, 0], ppca.e_X[:, 1], c=t)"
   ]
  },
  {
   "cell_type": "code",
   "execution_count": null,
   "metadata": {
    "collapsed": true
   },
   "outputs": [],
   "source": []
  }
 ],
 "metadata": {
  "kernelspec": {
   "display_name": "Python 2",
   "language": "python",
   "name": "python2"
  },
  "language_info": {
   "codemirror_mode": {
    "name": "ipython",
    "version": 2
   },
   "file_extension": ".py",
   "mimetype": "text/x-python",
   "name": "python",
   "nbconvert_exporter": "python",
   "pygments_lexer": "ipython2",
   "version": "2.7.12"
  }
 },
 "nbformat": 4,
 "nbformat_minor": 2
}
